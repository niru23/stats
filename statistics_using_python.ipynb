{
 "cells": [
  {
   "cell_type": "markdown",
   "metadata": {},
   "source": [
    "# Visualizing central limit theorem using python\n",
    "The idea of CLT is the following: let’s collect x samples each of size n and let’s compute the sample mean for each sample. Then, (under some assumptions we are going to see in a minute) if we plot all the sample means, they should be following a Normal distribution. Furthermore, the mean of all the sample means should be almost equal to the real parameter of the whole population.\n",
    "\n",
    "* The sampling procedure must be randomly executed\n",
    "* Samples have to be independent among each other\n",
    "* Sample size should be no more than 10% of the population when sampling is done without replacement\n",
    "* The sample size should be sufficiently large (normally, a size of n=30 is considered to be sufficiently large, even though it really depends on the initial population)\n",
    "\n",
    "If these assumptions are considered true, the CLT allows you to make inferences about the initial population.\n",
    "\n",
    "CLT states that — as the sample size tends to infinity, the shape of the distribution resembles a bell shape (normal distribution). The center of this distribution of the sample means becomes very close to the population mean — which is essentially the law of large numbers.\n",
    "\n",
    "It enables us to test the hypothesis of whether our sample represents a population distinct from the known population. We can take a mean from a sample and compare it with the sampling distribution to estimate the probability whether the sample comes from the known population."
   ]
  },
  {
   "cell_type": "code",
   "execution_count": null,
   "metadata": {},
   "outputs": [],
   "source": []
  },
  {
   "cell_type": "markdown",
   "metadata": {},
   "source": [
    "# Simulation of central limit theorem"
   ]
  },
  {
   "cell_type": "code",
   "execution_count": 8,
   "metadata": {},
   "outputs": [
    {
     "name": "stdout",
     "output_type": "stream",
     "text": [
      "[65 71 72 68 69 71 65 75 60 76 61 72 67 73 88 66 85 78 80 65 78 80 71 88\n",
      " 70 88 89 74 78 64 83 83 69 77 83 60 82 73 69 69 67 89 82 85 61 60 88 77\n",
      " 68 84]\n",
      "Average weight is 74.32 kg\n"
     ]
    }
   ],
   "source": [
    "import numpy \n",
    "from numpy.random import seed\n",
    "from numpy.random import randint\n",
    "from numpy import mean\n",
    "seed(1)\n",
    "weights = randint(60,90,50)\n",
    "print(weights)\n",
    "print('Average weight is {} kg'.format(mean(weights)))\n"
   ]
  },
  {
   "cell_type": "code",
   "execution_count": 13,
   "metadata": {},
   "outputs": [
    {
     "data": {
      "image/png": "[encoded data removed]",
      "text/plain": [
       "<Figure size 432x288 with 1 Axes>"
      ]
     },
     "metadata": {
      "needs_background": "light"
     },
     "output_type": "display_data"
    },
    {
     "name": "stdout",
     "output_type": "stream",
     "text": [
      "The means of sample 74.54001999999998\n"
     ]
    }
   ],
   "source": [
    "#Runing 1000 samples\n",
    "import matplotlib.pyplot as plt\n",
    "seed(1)\n",
    "means_of_sample =[mean(randint(60,90,50)) for _i in range(1000)]\n",
    "plt.hist(means_of_sample)\n",
    "plt.show()\n",
    "print('The means of sample {}'.format(mean(means_of_sample)))"
   ]
  },
  {
   "cell_type": "markdown",
   "metadata": {},
   "source": [
    "# check if a distribution is normal or not shepiro normality test using Anderson-Darling and Shapiro-Wilk tests\n",
    "The W statistic is calculated as follows:\n",
    "W=(∑ni=1aix(i))2∑ni=1(xi−x¯)2,\n",
    "where the x(i) are the ordered sample values (x(1) is the smallest) and the ai are constants generated from the means, variances and covariances of the order statistics of a sample of size n from a normal distribution (see Pearson and Hartley"
   ]
  },
  {
   "cell_type": "code",
   "execution_count": null,
   "metadata": {},
   "outputs": [],
   "source": [
    "The significance level determines how far out from the null hypothesis value we'll draw that line on the graph. To graph a significance level of 0.05, we need to shade the 5% of the distribution that is furthest away from the null hypothesis.\n",
    "\n",
    "Probability plot that shows the critical regions for a significance level of 0.05\n",
    "https://blog.minitab.com/blog/adventures-in-statistics-2/understanding-hypothesis-tests-significance-levels-alpha-and-p-values-in-statistics"
   ]
  },
  {
   "cell_type": "code",
   "execution_count": 16,
   "metadata": {},
   "outputs": [
    {
     "name": "stdout",
     "output_type": "stream",
     "text": [
      "Statistics = 0.9982803463935852,p =0.4203375577926636\n",
      "Sample looks Normal (do not reject H0)\n"
     ]
    }
   ],
   "source": [
    "from scipy.stats import shapiro\n",
    "stats,p = shapiro(means_of_sample)\n",
    "print('Statistics = {},p ={}'.format(stats,p))\n",
    "alpha = 0.05\n",
    "if p > alpha:\n",
    "    print('Sample looks Normal (do not reject H0)')\n",
    "else:\n",
    "    print('Sample does not look Normal (reject H0)')"
   ]
  },
  {
   "cell_type": "code",
   "execution_count": 21,
   "metadata": {},
   "outputs": [
    {
     "name": "stdout",
     "output_type": "stream",
     "text": [
      "sample size =70\n"
     ]
    },
    {
     "data": {
      "image/png": "[encoded data removed]",
      "text/plain": [
       "<Figure size 432x288 with 1 Axes>"
      ]
     },
     "metadata": {
      "needs_background": "light"
     },
     "output_type": "display_data"
    },
    {
     "name": "stdout",
     "output_type": "stream",
     "text": [
      "The means of sample 74.54348571428572\n",
      "Statistics = 0.9986950755119324,p =0.6852357983589172\n"
     ]
    }
   ],
   "source": [
    "#Runing 1000 samples\n",
    "print('sample size ={}'.format(70))\n",
    "import matplotlib.pyplot as plt\n",
    "seed(1)\n",
    "means_of_sample =[mean(randint(60,90,70)) for _i in range(1000)]\n",
    "plt.hist(means_of_sample)\n",
    "plt.show()\n",
    "print('The means of sample {}'.format(mean(means_of_sample)))\n",
    "stats,p = shapiro(means_of_sample)\n",
    "print('Statistics = {},p ={}'.format(stats,p))"
   ]
  },
  {
   "cell_type": "code",
   "execution_count": 22,
   "metadata": {},
   "outputs": [
    {
     "name": "stdout",
     "output_type": "stream",
     "text": [
      "sample size =80\n"
     ]
    },
    {
     "data": {
      "image/png": "[encoded data removed]",
      "text/plain": [
       "<Figure size 432x288 with 1 Axes>"
      ]
     },
     "metadata": {
      "needs_background": "light"
     },
     "output_type": "display_data"
    },
    {
     "name": "stdout",
     "output_type": "stream",
     "text": [
      "The means of sample 74.556\n",
      "Statistics = 0.9986528754234314,p =0.6567486524581909\n"
     ]
    }
   ],
   "source": [
    "#Runing 1000 samples\n",
    "print('sample size ={}'.format(80))\n",
    "import matplotlib.pyplot as plt\n",
    "seed(1)\n",
    "means_of_sample =[mean(randint(60,90,80)) for _i in range(1000)]\n",
    "plt.hist(means_of_sample)\n",
    "plt.show()\n",
    "print('The means of sample {}'.format(mean(means_of_sample)))\n",
    "stats,p = shapiro(means_of_sample)\n",
    "print('Statistics = {},p ={}'.format(stats,p))"
   ]
  },
  {
   "cell_type": "code",
   "execution_count": 23,
   "metadata": {},
   "outputs": [
    {
     "name": "stdout",
     "output_type": "stream",
     "text": [
      "sample size =100\n"
     ]
    },
    {
     "data": {
      "image/png": "[encoded data removed]",
      "text/plain": [
       "<Figure size 432x288 with 1 Axes>"
      ]
     },
     "metadata": {
      "needs_background": "light"
     },
     "output_type": "display_data"
    },
    {
     "name": "stdout",
     "output_type": "stream",
     "text": [
      "The means of sample 74.54565000000001\n",
      "Statistics = 0.9981779456138611,p =0.36532190442085266\n"
     ]
    }
   ],
   "source": [
    "#Runing 1000 samples\n",
    "print('sample size ={}'.format(100))\n",
    "import matplotlib.pyplot as plt\n",
    "seed(1)\n",
    "means_of_sample =[mean(randint(60,90,100)) for _i in range(1000)]\n",
    "plt.hist(means_of_sample)\n",
    "plt.show()\n",
    "print('The means of sample {}'.format(mean(means_of_sample)))\n",
    "stats,p = shapiro(means_of_sample)\n",
    "print('Statistics = {},p ={}'.format(stats,p))"
   ]
  },
  {
   "cell_type": "code",
   "execution_count": null,
   "metadata": {},
   "outputs": [],
   "source": []
  }
 ],
 "metadata": {
  "kernelspec": {
   "display_name": "Python 3",
   "language": "python",
   "name": "python3"
  },
  "language_info": {
   "codemirror_mode": {
    "name": "ipython",
    "version": 3
   },
   "file_extension": ".py",
   "mimetype": "text/x-python",
   "name": "python",
   "nbconvert_exporter": "python",
   "pygments_lexer": "ipython3",
   "version": "3.7.0"
  }
 },
 "nbformat": 4,
 "nbformat_minor": 2
}
