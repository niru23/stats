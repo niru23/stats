{
 "cells": [
  {
   "cell_type": "markdown",
   "metadata": {},
   "source": [
    "# What us bootstrapping in statistics ?\n",
    "It is a method used to estimate summary statistics such as the mean or standard deviation. It is used in applied machine learning to estimate the skill of machine learning models when making predictions on data not included in the training data. In other words the bootstrap method is a statistical technique for estimating quantities about a population by averaging estimates from multiple small data samples. Importantly, samples are constructed by drawing observations from a large data sample one at a time and returning them to the data sample after they have been chosen. This allows a given observation to be included in a given small sample more than once. This approach to sampling is called sampling with replacement.\n",
    "The following is achieved in this code\n",
    "* The bootstrap method involves iteratively resampling a dataset with replacement.\n",
    "* That when using the bootstrap you must choose the size of the sample and the number of repeats.\n",
    "* The scikit-learn provides a function that you can use to resample a dataset for the bootstrap method"
   ]
  },
  {
   "cell_type": "markdown",
   "metadata": {},
   "source": [
    "# How is bootstrapping used in A/B testing ?\n",
    "\n",
    "The bootstrap method is a resampling technique used to estimate statistics on a population by sampling a dataset with replacement.\n",
    "Imagine we own a website and think changing the color of a ‘subscribe’ button will improve signups. One method to measure the improvement is to conduct an A/B test where we show 50% of people the old version and 50% of the people the new version. We can use the bootstrap to understand how much the button color improves responses and give us the error bars associated with the test - this will give us lower and upper bounds on how good we should expect the change to be!\n",
    "\n",
    "\n",
    "\n"
   ]
  },
  {
   "cell_type": "markdown",
   "metadata": {},
   "source": [
    "# How is bootstrapping used for machine learning ?\n",
    "\n",
    "The procedure of using the bootstrap method to estimate the skill of the model can be summarized as follows:\n",
    "\n",
    "* Choose a number of bootstrap samples to perform\n",
    "* Choose a sample size\n",
    "* For each bootstrap sample\n",
    "* Draw a sample with replacement with the chosen size\n",
    "* Fit a model on the data sample\n",
    "* Estimate the skill of the model on the out-of-bag sample.\n",
    "* Calculate the mean of the sample of model skill estimates.\n",
    "\n",
    "\n",
    "A useful feature of the bootstrap method is that the resulting sample of estimations often forms a Gaussian distribution(normal distribution). In additional to summarizing this distribution with a central tendency, measures of variance can be given, such as standard deviation and standard error. Further, a confidence interval can be calculated and used to bound the presented estimate. This is useful when presenting the estimated skill of a machine learning model.\n",
    "\n",
    "\n",
    "bootstrap method is used to estimate statistics on a population by sampling a dataset with replacement.\n",
    " It is also non-parametric because it doesn't assume any model as well as parameters and just use the original sample set to estimate the statistics."
   ]
  },
  {
   "cell_type": "markdown",
   "metadata": {},
   "source": [
    "# Sampling with and without replacement¶"
   ]
  },
  {
   "cell_type": "code",
   "execution_count": 34,
   "metadata": {},
   "outputs": [
    {
     "name": "stdout",
     "output_type": "stream",
     "text": [
      "sample with replacement [2 2 6 1 3 9 6 1 0 1 9 0]\n",
      "sample with replacement and weights [1 2 1 0 1 2 1 1 2 2]\n",
      "random multi dimentional sample [[8 0 7 3 4 6 1 5 6 2]\n",
      " [1 8 3 5 0 2 6 2 4 4]\n",
      " [6 3 0 6 4 7 6 7 1 5]\n",
      " [7 2 4 8 1 2 1 1 3 5]\n",
      " [0 8 1 6 3 3 5 7 2 3]\n",
      " [3 3 8 6 7 6 3 6 6 6]\n",
      " [1 3 4 3 1 0 5 8 6 8]\n",
      " [1 0 3 1 3 4 7 6 1 4]]\n",
      "random multi dimentional shuffle [[1 8 3 5 0 2 6 2 4 4]\n",
      " [8 0 7 3 4 6 1 5 6 2]\n",
      " [6 3 0 6 4 7 6 7 1 5]\n",
      " [3 3 8 6 7 6 3 6 6 6]\n",
      " [1 0 3 1 3 4 7 6 1 4]\n",
      " [7 2 4 8 1 2 1 1 3 5]\n",
      " [0 8 1 6 3 3 5 7 2 3]\n",
      " [1 3 4 3 1 0 5 8 6 8]]\n"
     ]
    }
   ],
   "source": [
    "import numpy as np\n",
    "from numpy.random import seed\n",
    "from numpy.random import  randint\n",
    "from numpy import mean\n",
    "\n",
    "seed(123)\n",
    "# with replacement\n",
    "print('sample with replacement',np.random.choice(10,12))\n",
    "# Probability weights can be given\n",
    "print('sample with replacement and weights',np.random.choice(4,10,p =[0.1,0.4,0.4,0.1]))\n",
    "# random sample mulidimentional array\n",
    "x = randint(0,9,(8,10))\n",
    "print('random multi dimentional sample',x)\n",
    "np.random.shuffle(x)\n",
    "print('random multi dimentional shuffle',x)"
   ]
  },
  {
   "cell_type": "markdown",
   "metadata": {},
   "source": [
    "# Standard Error\n",
    "Estimate. Since the population standard deviation is seldom known, the standard error of the mean is usually estimated as the sample standard deviation divided by the square root of the sample size (assuming statistical independence of the values in the sample). n is the size (number of observations) of the sample.\n",
    "\n",
    "\n",
    "The standard error (SE) of a statistic (usually an estimate of a parameter) is the standard deviation of its sampling distribution[1] or an estimate of that standard deviation. If the parameter or the statistic is the mean, it is called the standard error of the mean (SEM).\n",
    "\n",
    "The sampling distribution of a population mean is generated by repeated sampling and recording of the means obtained. This forms a distribution of different means, and this distribution has its own mean and variance. Mathematically, the variance of the sampling distribution obtained is equal to the variance of the population divided by the sample size. This is because as the sample size increases, sample means cluster more closely around the population mean.\n",
    "\n",
    "Therefore, the relationship between the standard error and the standard deviation is such that, for a given sample size, the standard error equals the standard deviation divided by the square root of the sample size. In other words, the standard error of the mean is a measure of the dispersion of sample means around the population mean.\n",
    "\n",
    "In regression analysis, the term \"standard error\" refers either to the square root of the reduced chi-squared statistic or the standard error for a particular regression coefficient (as used in, e.g., confidence intervals)."
   ]
  },
  {
   "cell_type": "markdown",
   "metadata": {},
   "source": [
    "# Bootstrapping "
   ]
  },
  {
   "cell_type": "code",
   "execution_count": 42,
   "metadata": {},
   "outputs": [
    {
     "name": "stdout",
     "output_type": "stream",
     "text": [
      "[158 169 177 192 127 173 146 103 187 101 163 128 188 194 146 114 137 196\n",
      " 148 171 139 115 133 105 186 152 120 198 128 198 101 196 125 143 195 117\n",
      " 197 129 122 147 154 183 122 139 163 171 113 186 177 101 103 187 199 108\n",
      " 115 195 131 126 114 167 199 124 114 111 170 199 123 169 140 159 130 120\n",
      " 159 174 179 177 188 113 181 113 123 171 124 197 127 187 117 156 197 141\n",
      " 166 111 135 168 182 175 190 116 142 191]\n",
      "\n",
      "\n",
      "bootstrap sample 0  -  [147 115 111 101 173 137 177 114 159 187]\n",
      "summary stats  142.1 142.0 29.504067516191732\n",
      "\n",
      "\n",
      "bootstrap sample 1  -  [101 113 169 186 125 158 181 137 122 126]\n",
      "summary stats  141.8 131.5 28.166646942793882\n",
      "\n",
      "\n",
      "bootstrap sample 2  -  [148 108 124 197 158 117 114 105 197 181]\n",
      "summary stats  144.9 136.0 34.69423583248376\n",
      "\n",
      "\n",
      "bootstrap sample 3  -  [111 126 105 126 111 154 125 175 126 195]\n",
      "summary stats  135.4 126.0 28.203545876361005\n",
      "\n",
      "\n",
      "bootstrap sample 4  -  [182 146 170 128 195 197 198 141 163 167]\n",
      "summary stats  168.7 168.5 23.460818400047344\n",
      "\n",
      "\n",
      "bootstrap sample 5  -  [196 169 101 171 115 159 115 114 198 199]\n",
      "summary stats  153.7 164.0 37.03255324710949\n",
      "\n",
      "\n",
      "bootstrap sample 6  -  [197 139 171 171 113 122 195 128 195 168]\n",
      "summary stats  159.9 169.5 30.40213808270728\n",
      "\n",
      "\n",
      "bootstrap sample 7  -  [115 199 186 123 115 196 126 113 141 140]\n",
      "summary stats  145.4 133.0 33.02483913662563\n",
      "\n",
      "\n",
      "bootstrap sample 8  -  [198 120 190 191 167 188 197 196 103 101]\n",
      "summary stats  165.1 189.0 38.565398999621415\n",
      "\n",
      "\n",
      "bootstrap sample 9  -  [197 122 190 127 171 105 111 127 198 122]\n",
      "summary stats  147.0 127.0 35.5471517846367\n"
     ]
    }
   ],
   "source": [
    "data = randint(100,200,100)\n",
    "print(data)\n",
    "for i in range(10):\n",
    "\n",
    "    bootstrap_sample  = np.random.choice(data,size =10)\n",
    "    print('\\n')\n",
    "    print('bootstrap sample',i,' - ',bootstrap_sample )\n",
    "    print('summary stats ', np.mean(bootstrap_sample),np.median(bootstrap_sample),np.std(bootstrap_sample))\n",
    "    "
   ]
  },
  {
   "cell_type": "markdown",
   "metadata": {},
   "source": [
    "# Bootstrapping with montocarlo simulation\n",
    "\n",
    "Monte Carlo simulation is a computerized mathematical technique that allows people to account for risk in quantitative analysis and decision making.\n",
    "Monte Carlo simulation furnishes the decision-maker with a range of possible outcomes and the probabilities they will occur for any choice of action.. It shows the extreme possibilities—the outcomes of going for broke and for the most conservative decision—along with all possible consequences for middle-of-the-road decisions. One approach that can produce a better understanding of the range of potential outcomes and help avoid the “flaw of averages” is a Monte Carlo simulation.\n",
    "\n",
    "Bootstrapping is a special case of montocarlo simulation"
   ]
  },
  {
   "cell_type": "code",
   "execution_count": 43,
   "metadata": {},
   "outputs": [],
   "source": [
    "import pandas as pd\n",
    "import numpy as np\n",
    "import seaborn as sns\n",
    "sns.set_style('whitegrid')"
   ]
  },
  {
   "cell_type": "code",
   "execution_count": 44,
   "metadata": {},
   "outputs": [],
   "source": [
    "# Define the variables for the Percent to target based on historical results\n",
    "avg = 1\n",
    "std_dev = .1\n",
    "num_reps = 500\n",
    "num_simulations = 1000"
   ]
  },
  {
   "cell_type": "code",
   "execution_count": 45,
   "metadata": {},
   "outputs": [
    {
     "data": {
      "text/plain": [
       "array([1.1 , 1.13, 0.72, 0.92, 1.01, 0.9 , 0.89, 0.99, 1.12, 0.93, 1.08,\n",
       "       1.19, 0.88, 1.04, 1.05, 0.93, 0.97, 1.14, 0.97, 0.95, 1.19, 1.2 ,\n",
       "       0.97, 0.99, 0.91, 1.05, 1.28, 1.1 , 0.89, 1.1 , 1.16, 0.8 , 0.87,\n",
       "       0.86, 0.96, 0.95, 0.92, 0.97, 0.98, 1.09, 0.98, 1.16, 0.96, 0.85,\n",
       "       1.17, 1.12, 0.85, 0.93, 1.09, 1.13, 1.13, 1.  , 1.04, 1.07, 1.08,\n",
       "       0.85, 1.02, 1.  , 1.07, 1.04, 0.9 , 0.99, 1.07, 0.93, 1.03, 1.14,\n",
       "       1.08, 0.8 , 1.05, 0.92, 0.94, 0.9 , 1.12, 0.97, 0.96, 0.88, 1.02,\n",
       "       1.14, 0.86, 0.76, 1.16, 0.97, 0.93, 1.02, 1.02, 1.17, 1.14, 1.2 ,\n",
       "       0.97, 1.05, 1.12, 0.88, 0.96, 1.03, 1.15, 0.89, 1.15, 1.12, 1.04,\n",
       "       1.08, 1.18, 0.77, 0.85, 1.04, 1.12, 1.02, 0.93, 1.04, 0.86, 0.93,\n",
       "       1.11, 0.94, 0.83, 0.97, 1.16, 1.03, 0.98, 1.05, 0.79, 1.12, 0.8 ,\n",
       "       0.93, 1.11, 1.14, 0.96, 1.05, 1.02, 0.79, 0.95, 0.93, 1.11, 0.94,\n",
       "       1.06, 0.86, 0.92, 1.02, 0.87, 1.15, 1.15, 1.01, 1.  , 0.94, 0.99,\n",
       "       0.96, 0.97, 1.03, 1.01, 1.05, 0.91, 0.95, 1.01, 0.99, 0.98, 0.97,\n",
       "       1.15, 1.04, 1.06, 0.89, 0.83, 1.11, 1.06, 0.99, 1.07, 1.24, 1.05,\n",
       "       1.08, 0.75, 1.15, 0.96, 1.06, 0.92, 0.87, 0.99, 1.  , 0.99, 0.99,\n",
       "       0.98, 1.08, 0.96, 1.15, 0.81, 1.11, 1.03, 0.96, 0.8 , 0.88, 0.87,\n",
       "       1.14, 1.16, 0.96, 0.85, 0.92, 0.96, 1.01, 1.06, 1.18, 1.15, 1.13,\n",
       "       0.84, 0.85, 1.08, 0.9 , 1.02, 0.99, 1.16, 0.97, 1.05, 0.96, 1.07,\n",
       "       0.77, 1.21, 1.11, 0.94, 1.09, 0.75, 0.97, 1.08, 0.85, 0.95, 0.9 ,\n",
       "       1.06, 1.05, 1.08, 1.03, 1.02, 1.08, 0.97, 1.06, 0.96, 0.89, 1.19,\n",
       "       1.14, 1.11, 0.97, 0.96, 0.91, 1.  , 1.02, 1.09, 1.03, 1.02, 1.09,\n",
       "       1.02, 1.05, 1.04, 1.03, 1.1 , 1.16, 0.89, 0.96, 0.87, 1.  , 0.8 ,\n",
       "       1.02, 0.9 , 0.94, 1.06, 1.04, 0.81, 0.91, 0.88, 0.96, 0.88, 0.94,\n",
       "       1.11, 0.91, 0.97, 1.05, 1.06, 1.02, 1.05, 1.11, 0.95, 1.2 , 0.94,\n",
       "       1.17, 1.07, 1.  , 0.8 , 0.94, 1.06, 0.93, 1.12, 1.01, 1.08, 1.03,\n",
       "       0.99, 0.92, 1.11, 0.98, 1.07, 0.97, 0.84, 1.02, 1.08, 0.94, 0.99,\n",
       "       1.22, 1.22, 1.  , 1.06, 1.06, 1.26, 1.04, 0.9 , 1.2 , 1.16, 0.89,\n",
       "       1.12, 0.9 , 0.86, 0.92, 0.81, 1.05, 1.1 , 1.09, 0.93, 0.99, 1.02,\n",
       "       1.12, 1.15, 1.12, 0.98, 1.  , 0.93, 0.94, 1.18, 0.95, 1.03, 1.03,\n",
       "       0.92, 0.74, 0.93, 0.98, 0.92, 0.86, 1.05, 0.87, 1.01, 1.02, 1.16,\n",
       "       1.05, 0.73, 0.75, 1.12, 1.06, 1.03, 1.03, 1.13, 0.95, 0.78, 0.9 ,\n",
       "       1.06, 0.99, 0.96, 1.17, 0.89, 1.03, 0.92, 0.83, 1.11, 0.9 , 0.99,\n",
       "       1.2 , 1.11, 1.01, 0.92, 1.08, 1.  , 0.83, 0.85, 0.93, 0.89, 0.93,\n",
       "       0.85, 0.93, 0.69, 1.1 , 0.9 , 0.97, 0.97, 1.14, 0.88, 1.1 , 1.11,\n",
       "       0.98, 1.03, 1.27, 1.02, 1.03, 0.99, 0.94, 1.01, 1.11, 0.91, 1.17,\n",
       "       1.08, 0.95, 1.06, 0.93, 1.08, 0.98, 0.92, 1.21, 0.97, 1.11, 1.12,\n",
       "       1.18, 0.96, 1.05, 1.1 , 0.98, 1.07, 1.15, 0.9 , 1.1 , 0.82, 0.92,\n",
       "       1.04, 1.06, 1.19, 1.  , 0.95, 0.91, 0.91, 1.04, 0.87, 1.09, 0.96,\n",
       "       1.15, 1.01, 1.14, 1.19, 0.97, 1.  , 0.9 , 1.1 , 1.06, 0.96, 0.76,\n",
       "       0.97, 1.03, 0.93, 1.14, 0.82, 1.06, 1.07, 0.9 , 1.23, 0.79, 0.94,\n",
       "       0.92, 0.93, 1.09, 1.02, 1.02, 0.97, 0.94, 0.85, 1.01, 1.01, 0.84,\n",
       "       0.92, 1.  , 0.99, 0.85, 1.24, 0.92, 1.08, 0.92, 0.89, 0.91, 0.97,\n",
       "       1.11, 0.99, 0.91, 0.87, 1.09, 1.  , 1.03, 1.07, 0.97, 0.99, 1.15,\n",
       "       1.03, 0.94, 0.84, 0.97, 0.98, 0.96, 1.12, 1.08, 0.99, 1.06, 0.92,\n",
       "       0.96, 0.88, 1.07, 0.88, 1.02])"
      ]
     },
     "execution_count": 45,
     "metadata": {},
     "output_type": "execute_result"
    }
   ],
   "source": [
    "# Show an example of calculating the percent to target\n",
    "pct_to_target = np.random.normal(avg, std_dev, num_reps).round(2)\n"
   ]
  },
  {
   "cell_type": "code",
   "execution_count": 47,
   "metadata": {},
   "outputs": [],
   "source": [
    "# Another example for the sales target distribution\n",
    "sales_target_values = [75_000, 100_000, 200_000, 300_000, 400_000, 500_000]\n",
    "sales_target_prob = [.3, .3, .2, .1, .05, .05]\n",
    "sales_target = np.random.choice(sales_target_values, num_reps, p=sales_target_prob)"
   ]
  },
  {
   "cell_type": "code",
   "execution_count": 48,
   "metadata": {},
   "outputs": [
    {
     "data": {
      "text/html": [
       "<div>\n",
       "<style scoped>\n",
       "    .dataframe tbody tr th:only-of-type {\n",
       "        vertical-align: middle;\n",
       "    }\n",
       "\n",
       "    .dataframe tbody tr th {\n",
       "        vertical-align: top;\n",
       "    }\n",
       "\n",
       "    .dataframe thead th {\n",
       "        text-align: right;\n",
       "    }\n",
       "</style>\n",
       "<table border=\"1\" class=\"dataframe\">\n",
       "  <thead>\n",
       "    <tr style=\"text-align: right;\">\n",
       "      <th></th>\n",
       "      <th>Pct_To_Target</th>\n",
       "      <th>Sales_Target</th>\n",
       "    </tr>\n",
       "  </thead>\n",
       "  <tbody>\n",
       "    <tr>\n",
       "      <td>0</td>\n",
       "      <td>1.10</td>\n",
       "      <td>200000</td>\n",
       "    </tr>\n",
       "    <tr>\n",
       "      <td>1</td>\n",
       "      <td>1.13</td>\n",
       "      <td>100000</td>\n",
       "    </tr>\n",
       "    <tr>\n",
       "      <td>2</td>\n",
       "      <td>0.72</td>\n",
       "      <td>400000</td>\n",
       "    </tr>\n",
       "    <tr>\n",
       "      <td>3</td>\n",
       "      <td>0.92</td>\n",
       "      <td>200000</td>\n",
       "    </tr>\n",
       "    <tr>\n",
       "      <td>4</td>\n",
       "      <td>1.01</td>\n",
       "      <td>200000</td>\n",
       "    </tr>\n",
       "  </tbody>\n",
       "</table>\n",
       "</div>"
      ],
      "text/plain": [
       "   Pct_To_Target  Sales_Target\n",
       "0           1.10        200000\n",
       "1           1.13        100000\n",
       "2           0.72        400000\n",
       "3           0.92        200000\n",
       "4           1.01        200000"
      ]
     },
     "execution_count": 48,
     "metadata": {},
     "output_type": "execute_result"
    }
   ],
   "source": [
    "df = pd.DataFrame(index=range(num_reps), data={'Pct_To_Target': pct_to_target,\n",
    "                                               'Sales_Target': sales_target})\n",
    "df.head()"
   ]
  },
  {
   "cell_type": "code",
   "execution_count": 49,
   "metadata": {},
   "outputs": [
    {
     "data": {
      "text/plain": [
       "<matplotlib.axes._subplots.AxesSubplot at 0x1211fd358>"
      ]
     },
     "execution_count": 49,
     "metadata": {},
     "output_type": "execute_result"
    },
    {
     "data": {
      "image/png": "[encoded data removed]",
      "text/plain": [
       "<Figure size 432x288 with 1 Axes>"
      ]
     },
     "metadata": {
      "needs_background": "light"
     },
     "output_type": "display_data"
    }
   ],
   "source": [
    "# Simple histogram to confirm distribution looks as expected\n",
    "df['Pct_To_Target'].plot(kind='hist', title='Historical % to Target Distribution')"
   ]
  },
  {
   "cell_type": "code",
   "execution_count": 51,
   "metadata": {},
   "outputs": [
    {
     "data": {
      "text/plain": [
       "<matplotlib.axes._subplots.AxesSubplot at 0x12325db00>"
      ]
     },
     "execution_count": 51,
     "metadata": {},
     "output_type": "execute_result"
    },
    {
     "data": {
      "image/png": "[encoded data removed]",
      "text/plain": [
       "<Figure size 432x288 with 1 Axes>"
      ]
     },
     "metadata": {
      "needs_background": "light"
     },
     "output_type": "display_data"
    }
   ],
   "source": [
    "\n",
    "# Look at the sales target distribution\n",
    "df['Sales_Target'].plot(kind='hist', title='Historical Sales Target Distribution')"
   ]
  },
  {
   "cell_type": "code",
   "execution_count": 52,
   "metadata": {},
   "outputs": [],
   "source": [
    "# Back into the actual sales amount\n",
    "df['Sales'] = df['Pct_To_Target'] * df['Sales_Target']"
   ]
  },
  {
   "cell_type": "code",
   "execution_count": 53,
   "metadata": {},
   "outputs": [],
   "source": [
    "def calc_commission_rate(x):\n",
    "    \"\"\" Return the commission rate based on the table:\n",
    "    0-90% = 2%\n",
    "    91-99% = 3%\n",
    "    >= 100 = 4%\n",
    "    \"\"\"\n",
    "    if x <= .90:\n",
    "        return .02\n",
    "    if x <= .99:\n",
    "        return .03\n",
    "    else:\n",
    "        return .04"
   ]
  },
  {
   "cell_type": "code",
   "execution_count": 54,
   "metadata": {},
   "outputs": [
    {
     "data": {
      "text/html": [
       "<div>\n",
       "<style scoped>\n",
       "    .dataframe tbody tr th:only-of-type {\n",
       "        vertical-align: middle;\n",
       "    }\n",
       "\n",
       "    .dataframe tbody tr th {\n",
       "        vertical-align: top;\n",
       "    }\n",
       "\n",
       "    .dataframe thead th {\n",
       "        text-align: right;\n",
       "    }\n",
       "</style>\n",
       "<table border=\"1\" class=\"dataframe\">\n",
       "  <thead>\n",
       "    <tr style=\"text-align: right;\">\n",
       "      <th></th>\n",
       "      <th>Pct_To_Target</th>\n",
       "      <th>Sales_Target</th>\n",
       "      <th>Sales</th>\n",
       "      <th>Commission_Rate</th>\n",
       "    </tr>\n",
       "  </thead>\n",
       "  <tbody>\n",
       "    <tr>\n",
       "      <td>0</td>\n",
       "      <td>1.10</td>\n",
       "      <td>200000</td>\n",
       "      <td>220000.0</td>\n",
       "      <td>0.04</td>\n",
       "    </tr>\n",
       "    <tr>\n",
       "      <td>1</td>\n",
       "      <td>1.13</td>\n",
       "      <td>100000</td>\n",
       "      <td>113000.0</td>\n",
       "      <td>0.04</td>\n",
       "    </tr>\n",
       "    <tr>\n",
       "      <td>2</td>\n",
       "      <td>0.72</td>\n",
       "      <td>400000</td>\n",
       "      <td>288000.0</td>\n",
       "      <td>0.02</td>\n",
       "    </tr>\n",
       "    <tr>\n",
       "      <td>3</td>\n",
       "      <td>0.92</td>\n",
       "      <td>200000</td>\n",
       "      <td>184000.0</td>\n",
       "      <td>0.03</td>\n",
       "    </tr>\n",
       "    <tr>\n",
       "      <td>4</td>\n",
       "      <td>1.01</td>\n",
       "      <td>200000</td>\n",
       "      <td>202000.0</td>\n",
       "      <td>0.04</td>\n",
       "    </tr>\n",
       "  </tbody>\n",
       "</table>\n",
       "</div>"
      ],
      "text/plain": [
       "   Pct_To_Target  Sales_Target     Sales  Commission_Rate\n",
       "0           1.10        200000  220000.0             0.04\n",
       "1           1.13        100000  113000.0             0.04\n",
       "2           0.72        400000  288000.0             0.02\n",
       "3           0.92        200000  184000.0             0.03\n",
       "4           1.01        200000  202000.0             0.04"
      ]
     },
     "execution_count": 54,
     "metadata": {},
     "output_type": "execute_result"
    }
   ],
   "source": [
    "df['Commission_Rate'] = df['Pct_To_Target'].apply(calc_commission_rate)\n",
    "df.head()"
   ]
  },
  {
   "cell_type": "code",
   "execution_count": 56,
   "metadata": {},
   "outputs": [],
   "source": [
    "# Calculate the commissions\n",
    "df['Commission_Amount'] = df['Commission_Rate'] * df['Sales']"
   ]
  },
  {
   "cell_type": "code",
   "execution_count": 57,
   "metadata": {},
   "outputs": [
    {
     "name": "stdout",
     "output_type": "stream",
     "text": [
      "83564500.0 2839890.0 83225000\n"
     ]
    }
   ],
   "source": [
    "print(df['Sales'].sum(), df['Commission_Amount'].sum(), df['Sales_Target'].sum())"
   ]
  },
  {
   "cell_type": "code",
   "execution_count": 58,
   "metadata": {},
   "outputs": [
    {
     "data": {
      "text/html": [
       "<div>\n",
       "<style scoped>\n",
       "    .dataframe tbody tr th:only-of-type {\n",
       "        vertical-align: middle;\n",
       "    }\n",
       "\n",
       "    .dataframe tbody tr th {\n",
       "        vertical-align: top;\n",
       "    }\n",
       "\n",
       "    .dataframe thead th {\n",
       "        text-align: right;\n",
       "    }\n",
       "</style>\n",
       "<table border=\"1\" class=\"dataframe\">\n",
       "  <thead>\n",
       "    <tr style=\"text-align: right;\">\n",
       "      <th></th>\n",
       "      <th>Pct_To_Target</th>\n",
       "      <th>Sales_Target</th>\n",
       "      <th>Sales</th>\n",
       "      <th>Commission_Rate</th>\n",
       "      <th>Commission_Amount</th>\n",
       "    </tr>\n",
       "  </thead>\n",
       "  <tbody>\n",
       "    <tr>\n",
       "      <td>count</td>\n",
       "      <td>500.000000</td>\n",
       "      <td>500.000000</td>\n",
       "      <td>500.00000</td>\n",
       "      <td>500.000000</td>\n",
       "      <td>500.000000</td>\n",
       "    </tr>\n",
       "    <tr>\n",
       "      <td>mean</td>\n",
       "      <td>1.001420</td>\n",
       "      <td>166450.000000</td>\n",
       "      <td>167129.00000</td>\n",
       "      <td>0.033280</td>\n",
       "      <td>5679.780000</td>\n",
       "    </tr>\n",
       "    <tr>\n",
       "      <td>std</td>\n",
       "      <td>0.107434</td>\n",
       "      <td>118706.908646</td>\n",
       "      <td>123251.05173</td>\n",
       "      <td>0.007679</td>\n",
       "      <td>4722.046129</td>\n",
       "    </tr>\n",
       "    <tr>\n",
       "      <td>min</td>\n",
       "      <td>0.690000</td>\n",
       "      <td>75000.000000</td>\n",
       "      <td>56250.00000</td>\n",
       "      <td>0.020000</td>\n",
       "      <td>1125.000000</td>\n",
       "    </tr>\n",
       "    <tr>\n",
       "      <td>25%</td>\n",
       "      <td>0.930000</td>\n",
       "      <td>75000.000000</td>\n",
       "      <td>80250.00000</td>\n",
       "      <td>0.030000</td>\n",
       "      <td>2902.500000</td>\n",
       "    </tr>\n",
       "    <tr>\n",
       "      <td>50%</td>\n",
       "      <td>1.000000</td>\n",
       "      <td>100000.000000</td>\n",
       "      <td>103000.00000</td>\n",
       "      <td>0.040000</td>\n",
       "      <td>3690.000000</td>\n",
       "    </tr>\n",
       "    <tr>\n",
       "      <td>75%</td>\n",
       "      <td>1.080000</td>\n",
       "      <td>200000.000000</td>\n",
       "      <td>216000.00000</td>\n",
       "      <td>0.040000</td>\n",
       "      <td>8210.000000</td>\n",
       "    </tr>\n",
       "    <tr>\n",
       "      <td>max</td>\n",
       "      <td>1.280000</td>\n",
       "      <td>500000.000000</td>\n",
       "      <td>615000.00000</td>\n",
       "      <td>0.040000</td>\n",
       "      <td>24600.000000</td>\n",
       "    </tr>\n",
       "  </tbody>\n",
       "</table>\n",
       "</div>"
      ],
      "text/plain": [
       "       Pct_To_Target   Sales_Target         Sales  Commission_Rate  \\\n",
       "count     500.000000     500.000000     500.00000       500.000000   \n",
       "mean        1.001420  166450.000000  167129.00000         0.033280   \n",
       "std         0.107434  118706.908646  123251.05173         0.007679   \n",
       "min         0.690000   75000.000000   56250.00000         0.020000   \n",
       "25%         0.930000   75000.000000   80250.00000         0.030000   \n",
       "50%         1.000000  100000.000000  103000.00000         0.040000   \n",
       "75%         1.080000  200000.000000  216000.00000         0.040000   \n",
       "max         1.280000  500000.000000  615000.00000         0.040000   \n",
       "\n",
       "       Commission_Amount  \n",
       "count         500.000000  \n",
       "mean         5679.780000  \n",
       "std          4722.046129  \n",
       "min          1125.000000  \n",
       "25%          2902.500000  \n",
       "50%          3690.000000  \n",
       "75%          8210.000000  \n",
       "max         24600.000000  "
      ]
     },
     "execution_count": 58,
     "metadata": {},
     "output_type": "execute_result"
    }
   ],
   "source": [
    "df.describe()\n"
   ]
  },
  {
   "cell_type": "code",
   "execution_count": 59,
   "metadata": {},
   "outputs": [
    {
     "data": {
      "text/html": [
       "<div>\n",
       "<style scoped>\n",
       "    .dataframe tbody tr th:only-of-type {\n",
       "        vertical-align: middle;\n",
       "    }\n",
       "\n",
       "    .dataframe tbody tr th {\n",
       "        vertical-align: top;\n",
       "    }\n",
       "\n",
       "    .dataframe thead th {\n",
       "        text-align: right;\n",
       "    }\n",
       "</style>\n",
       "<table border=\"1\" class=\"dataframe\">\n",
       "  <thead>\n",
       "    <tr style=\"text-align: right;\">\n",
       "      <th></th>\n",
       "      <th>Pct_To_Target</th>\n",
       "      <th>Sales_Target</th>\n",
       "      <th>Sales</th>\n",
       "      <th>Commission_Rate</th>\n",
       "      <th>Commission_Amount</th>\n",
       "    </tr>\n",
       "  </thead>\n",
       "  <tbody>\n",
       "    <tr>\n",
       "      <td>count</td>\n",
       "      <td>500.000000</td>\n",
       "      <td>500.000000</td>\n",
       "      <td>500.00000</td>\n",
       "      <td>500.000000</td>\n",
       "      <td>500.000000</td>\n",
       "    </tr>\n",
       "    <tr>\n",
       "      <td>mean</td>\n",
       "      <td>1.001420</td>\n",
       "      <td>166450.000000</td>\n",
       "      <td>167129.00000</td>\n",
       "      <td>0.033280</td>\n",
       "      <td>5679.780000</td>\n",
       "    </tr>\n",
       "    <tr>\n",
       "      <td>std</td>\n",
       "      <td>0.107434</td>\n",
       "      <td>118706.908646</td>\n",
       "      <td>123251.05173</td>\n",
       "      <td>0.007679</td>\n",
       "      <td>4722.046129</td>\n",
       "    </tr>\n",
       "    <tr>\n",
       "      <td>min</td>\n",
       "      <td>0.690000</td>\n",
       "      <td>75000.000000</td>\n",
       "      <td>56250.00000</td>\n",
       "      <td>0.020000</td>\n",
       "      <td>1125.000000</td>\n",
       "    </tr>\n",
       "    <tr>\n",
       "      <td>25%</td>\n",
       "      <td>0.930000</td>\n",
       "      <td>75000.000000</td>\n",
       "      <td>80250.00000</td>\n",
       "      <td>0.030000</td>\n",
       "      <td>2902.500000</td>\n",
       "    </tr>\n",
       "    <tr>\n",
       "      <td>50%</td>\n",
       "      <td>1.000000</td>\n",
       "      <td>100000.000000</td>\n",
       "      <td>103000.00000</td>\n",
       "      <td>0.040000</td>\n",
       "      <td>3690.000000</td>\n",
       "    </tr>\n",
       "    <tr>\n",
       "      <td>75%</td>\n",
       "      <td>1.080000</td>\n",
       "      <td>200000.000000</td>\n",
       "      <td>216000.00000</td>\n",
       "      <td>0.040000</td>\n",
       "      <td>8210.000000</td>\n",
       "    </tr>\n",
       "    <tr>\n",
       "      <td>max</td>\n",
       "      <td>1.280000</td>\n",
       "      <td>500000.000000</td>\n",
       "      <td>615000.00000</td>\n",
       "      <td>0.040000</td>\n",
       "      <td>24600.000000</td>\n",
       "    </tr>\n",
       "  </tbody>\n",
       "</table>\n",
       "</div>"
      ],
      "text/plain": [
       "       Pct_To_Target   Sales_Target         Sales  Commission_Rate  \\\n",
       "count     500.000000     500.000000     500.00000       500.000000   \n",
       "mean        1.001420  166450.000000  167129.00000         0.033280   \n",
       "std         0.107434  118706.908646  123251.05173         0.007679   \n",
       "min         0.690000   75000.000000   56250.00000         0.020000   \n",
       "25%         0.930000   75000.000000   80250.00000         0.030000   \n",
       "50%         1.000000  100000.000000  103000.00000         0.040000   \n",
       "75%         1.080000  200000.000000  216000.00000         0.040000   \n",
       "max         1.280000  500000.000000  615000.00000         0.040000   \n",
       "\n",
       "       Commission_Amount  \n",
       "count         500.000000  \n",
       "mean         5679.780000  \n",
       "std          4722.046129  \n",
       "min          1125.000000  \n",
       "25%          2902.500000  \n",
       "50%          3690.000000  \n",
       "75%          8210.000000  \n",
       "max         24600.000000  "
      ]
     },
     "execution_count": 59,
     "metadata": {},
     "output_type": "execute_result"
    }
   ],
   "source": [
    "df.describe()"
   ]
  },
  {
   "cell_type": "code",
   "execution_count": 62,
   "metadata": {},
   "outputs": [
    {
     "data": {
      "text/html": [
       "<div>\n",
       "<style scoped>\n",
       "    .dataframe tbody tr th:only-of-type {\n",
       "        vertical-align: middle;\n",
       "    }\n",
       "\n",
       "    .dataframe tbody tr th {\n",
       "        vertical-align: top;\n",
       "    }\n",
       "\n",
       "    .dataframe thead th {\n",
       "        text-align: right;\n",
       "    }\n",
       "</style>\n",
       "<table border=\"1\" class=\"dataframe\">\n",
       "  <thead>\n",
       "    <tr style=\"text-align: right;\">\n",
       "      <th></th>\n",
       "      <th>Pct_To_Target</th>\n",
       "      <th>Sales_Target</th>\n",
       "    </tr>\n",
       "  </thead>\n",
       "  <tbody>\n",
       "    <tr>\n",
       "      <td>0</td>\n",
       "      <td>1.10</td>\n",
       "      <td>200000</td>\n",
       "    </tr>\n",
       "    <tr>\n",
       "      <td>1</td>\n",
       "      <td>1.13</td>\n",
       "      <td>100000</td>\n",
       "    </tr>\n",
       "    <tr>\n",
       "      <td>2</td>\n",
       "      <td>0.72</td>\n",
       "      <td>400000</td>\n",
       "    </tr>\n",
       "    <tr>\n",
       "      <td>3</td>\n",
       "      <td>0.92</td>\n",
       "      <td>200000</td>\n",
       "    </tr>\n",
       "    <tr>\n",
       "      <td>4</td>\n",
       "      <td>1.01</td>\n",
       "      <td>200000</td>\n",
       "    </tr>\n",
       "    <tr>\n",
       "      <td>...</td>\n",
       "      <td>...</td>\n",
       "      <td>...</td>\n",
       "    </tr>\n",
       "    <tr>\n",
       "      <td>495</td>\n",
       "      <td>0.96</td>\n",
       "      <td>75000</td>\n",
       "    </tr>\n",
       "    <tr>\n",
       "      <td>496</td>\n",
       "      <td>0.88</td>\n",
       "      <td>300000</td>\n",
       "    </tr>\n",
       "    <tr>\n",
       "      <td>497</td>\n",
       "      <td>1.07</td>\n",
       "      <td>100000</td>\n",
       "    </tr>\n",
       "    <tr>\n",
       "      <td>498</td>\n",
       "      <td>0.88</td>\n",
       "      <td>75000</td>\n",
       "    </tr>\n",
       "    <tr>\n",
       "      <td>499</td>\n",
       "      <td>1.02</td>\n",
       "      <td>100000</td>\n",
       "    </tr>\n",
       "  </tbody>\n",
       "</table>\n",
       "<p>500 rows × 2 columns</p>\n",
       "</div>"
      ],
      "text/plain": [
       "     Pct_To_Target  Sales_Target\n",
       "0             1.10        200000\n",
       "1             1.13        100000\n",
       "2             0.72        400000\n",
       "3             0.92        200000\n",
       "4             1.01        200000\n",
       "..             ...           ...\n",
       "495           0.96         75000\n",
       "496           0.88        300000\n",
       "497           1.07        100000\n",
       "498           0.88         75000\n",
       "499           1.02        100000\n",
       "\n",
       "[500 rows x 2 columns]"
      ]
     },
     "execution_count": 62,
     "metadata": {},
     "output_type": "execute_result"
    }
   ],
   "source": [
    "df1 = pd.DataFrame(index =range(num_reps),data={'Pct_To_Target': pct_to_target,\n",
    "                                                   'Sales_Target': sales_target})\n",
    "df1"
   ]
  },
  {
   "cell_type": "code",
   "execution_count": 63,
   "metadata": {},
   "outputs": [],
   "source": [
    "# Define a list to keep all the results from each simulation that we want to analyze\n",
    "all_stats = []\n",
    "\n",
    "# Loop through many simulations\n",
    "for i in range(num_simulations):\n",
    "    \n",
    "    # Choose random inputs for the sales targets and percent to target\n",
    "    sales_target = np.random.choice(sales_target_values, num_reps, p=sales_target_prob)\n",
    "    pct_to_target = np.random.normal(avg, std_dev, num_reps).round(2)\n",
    "    \n",
    "    # Build the dataframe based on the inputs and number of reps\n",
    "    df = pd.DataFrame(index=range(num_reps), data={'Pct_To_Target': pct_to_target,\n",
    "                                                   'Sales_Target': sales_target})\n",
    "    \n",
    "    # Back into the sales number using the percent to target rate\n",
    "    df['Sales'] = df['Pct_To_Target'] * df['Sales_Target']\n",
    "    \n",
    "    # Determine the commissions rate and calculate it\n",
    "    df['Commission_Rate'] = df['Pct_To_Target'].apply(calc_commission_rate)\n",
    "    df['Commission_Amount'] = df['Commission_Rate'] * df['Sales']\n",
    "    \n",
    "    # We want to track sales,commission amounts and sales targets over all the simulations\n",
    "    all_stats.append([df['Sales'].sum().round(0), \n",
    "                      df['Commission_Amount'].sum().round(0), \n",
    "                      df['Sales_Target'].sum().round(0)])"
   ]
  },
  {
   "cell_type": "code",
   "execution_count": 64,
   "metadata": {},
   "outputs": [],
   "source": [
    "\n",
    "results_df = pd.DataFrame.from_records(all_stats, columns=['Sales', 'Commission_Amount', 'Sales_Target'])"
   ]
  },
  {
   "cell_type": "code",
   "execution_count": 65,
   "metadata": {},
   "outputs": [
    {
     "data": {
      "text/html": [
       "<style  type=\"text/css\" >\n",
       "</style><table id=\"T_3b343ed2_01b0_11ea_9d86_8c85904df19d\" ><thead>    <tr>        <th class=\"blank level0\" ></th>        <th class=\"col_heading level0 col0\" >Sales</th>        <th class=\"col_heading level0 col1\" >Commission_Amount</th>        <th class=\"col_heading level0 col2\" >Sales_Target</th>    </tr></thead><tbody>\n",
       "                <tr>\n",
       "                        <th id=\"T_3b343ed2_01b0_11ea_9d86_8c85904df19dlevel0_row0\" class=\"row_heading level0 row0\" >count</th>\n",
       "                        <td id=\"T_3b343ed2_01b0_11ea_9d86_8c85904df19drow0_col0\" class=\"data row0 col0\" >1,000.0</td>\n",
       "                        <td id=\"T_3b343ed2_01b0_11ea_9d86_8c85904df19drow0_col1\" class=\"data row0 col1\" >1,000.0</td>\n",
       "                        <td id=\"T_3b343ed2_01b0_11ea_9d86_8c85904df19drow0_col2\" class=\"data row0 col2\" >1,000.0</td>\n",
       "            </tr>\n",
       "            <tr>\n",
       "                        <th id=\"T_3b343ed2_01b0_11ea_9d86_8c85904df19dlevel0_row1\" class=\"row_heading level0 row1\" >mean</th>\n",
       "                        <td id=\"T_3b343ed2_01b0_11ea_9d86_8c85904df19drow1_col0\" class=\"data row1 col0\" >83,780,453.0</td>\n",
       "                        <td id=\"T_3b343ed2_01b0_11ea_9d86_8c85904df19drow1_col1\" class=\"data row1 col1\" >2,860,195.0</td>\n",
       "                        <td id=\"T_3b343ed2_01b0_11ea_9d86_8c85904df19drow1_col2\" class=\"data row1 col2\" >83,774,000.0</td>\n",
       "            </tr>\n",
       "            <tr>\n",
       "                        <th id=\"T_3b343ed2_01b0_11ea_9d86_8c85904df19dlevel0_row2\" class=\"row_heading level0 row2\" >std</th>\n",
       "                        <td id=\"T_3b343ed2_01b0_11ea_9d86_8c85904df19drow2_col0\" class=\"data row2 col0\" >2,772,249.0</td>\n",
       "                        <td id=\"T_3b343ed2_01b0_11ea_9d86_8c85904df19drow2_col1\" class=\"data row2 col1\" >104,669.0</td>\n",
       "                        <td id=\"T_3b343ed2_01b0_11ea_9d86_8c85904df19drow2_col2\" class=\"data row2 col2\" >2,737,751.0</td>\n",
       "            </tr>\n",
       "            <tr>\n",
       "                        <th id=\"T_3b343ed2_01b0_11ea_9d86_8c85904df19dlevel0_row3\" class=\"row_heading level0 row3\" >min</th>\n",
       "                        <td id=\"T_3b343ed2_01b0_11ea_9d86_8c85904df19drow3_col0\" class=\"data row3 col0\" >74,983,250.0</td>\n",
       "                        <td id=\"T_3b343ed2_01b0_11ea_9d86_8c85904df19drow3_col1\" class=\"data row3 col1\" >2,506,565.0</td>\n",
       "                        <td id=\"T_3b343ed2_01b0_11ea_9d86_8c85904df19drow3_col2\" class=\"data row3 col2\" >75,900,000.0</td>\n",
       "            </tr>\n",
       "            <tr>\n",
       "                        <th id=\"T_3b343ed2_01b0_11ea_9d86_8c85904df19dlevel0_row4\" class=\"row_heading level0 row4\" >25%</th>\n",
       "                        <td id=\"T_3b343ed2_01b0_11ea_9d86_8c85904df19drow4_col0\" class=\"data row4 col0\" >81,875,375.0</td>\n",
       "                        <td id=\"T_3b343ed2_01b0_11ea_9d86_8c85904df19drow4_col1\" class=\"data row4 col1\" >2,788,322.0</td>\n",
       "                        <td id=\"T_3b343ed2_01b0_11ea_9d86_8c85904df19drow4_col2\" class=\"data row4 col2\" >81,975,000.0</td>\n",
       "            </tr>\n",
       "            <tr>\n",
       "                        <th id=\"T_3b343ed2_01b0_11ea_9d86_8c85904df19dlevel0_row5\" class=\"row_heading level0 row5\" >50%</th>\n",
       "                        <td id=\"T_3b343ed2_01b0_11ea_9d86_8c85904df19drow5_col0\" class=\"data row5 col0\" >83,794,750.0</td>\n",
       "                        <td id=\"T_3b343ed2_01b0_11ea_9d86_8c85904df19drow5_col1\" class=\"data row5 col1\" >2,859,548.0</td>\n",
       "                        <td id=\"T_3b343ed2_01b0_11ea_9d86_8c85904df19drow5_col2\" class=\"data row5 col2\" >83,750,000.0</td>\n",
       "            </tr>\n",
       "            <tr>\n",
       "                        <th id=\"T_3b343ed2_01b0_11ea_9d86_8c85904df19dlevel0_row6\" class=\"row_heading level0 row6\" >75%</th>\n",
       "                        <td id=\"T_3b343ed2_01b0_11ea_9d86_8c85904df19drow6_col0\" class=\"data row6 col0\" >85,531,000.0</td>\n",
       "                        <td id=\"T_3b343ed2_01b0_11ea_9d86_8c85904df19drow6_col1\" class=\"data row6 col1\" >2,928,246.0</td>\n",
       "                        <td id=\"T_3b343ed2_01b0_11ea_9d86_8c85904df19drow6_col2\" class=\"data row6 col2\" >85,675,000.0</td>\n",
       "            </tr>\n",
       "            <tr>\n",
       "                        <th id=\"T_3b343ed2_01b0_11ea_9d86_8c85904df19dlevel0_row7\" class=\"row_heading level0 row7\" >max</th>\n",
       "                        <td id=\"T_3b343ed2_01b0_11ea_9d86_8c85904df19drow7_col0\" class=\"data row7 col0\" >94,784,500.0</td>\n",
       "                        <td id=\"T_3b343ed2_01b0_11ea_9d86_8c85904df19drow7_col1\" class=\"data row7 col1\" >3,227,730.0</td>\n",
       "                        <td id=\"T_3b343ed2_01b0_11ea_9d86_8c85904df19drow7_col2\" class=\"data row7 col2\" >95,200,000.0</td>\n",
       "            </tr>\n",
       "    </tbody></table>"
      ],
      "text/plain": [
       "<pandas.io.formats.style.Styler at 0x12332c6a0>"
      ]
     },
     "execution_count": 65,
     "metadata": {},
     "output_type": "execute_result"
    }
   ],
   "source": [
    "results_df.describe().round(0).style.format('{:,}')"
   ]
  },
  {
   "cell_type": "code",
   "execution_count": 66,
   "metadata": {},
   "outputs": [
    {
     "data": {
      "text/plain": [
       "<matplotlib.axes._subplots.AxesSubplot at 0x1238e6eb8>"
      ]
     },
     "execution_count": 66,
     "metadata": {},
     "output_type": "execute_result"
    },
    {
     "data": {
      "image/png": "[encoded data removed]",
      "text/plain": [
       "<Figure size 432x288 with 1 Axes>"
      ]
     },
     "metadata": {
      "needs_background": "light"
     },
     "output_type": "display_data"
    }
   ],
   "source": [
    "results_df['Commission_Amount'].plot(kind='hist', title=\"Total Commission Amount\")"
   ]
  },
  {
   "cell_type": "code",
   "execution_count": null,
   "metadata": {},
   "outputs": [],
   "source": [
    "#https://www.mikulskibartosz.name/monte-carlo-simulation-in-python/\n",
    "#https://github.com/chris1610/pbpython/blob/master/notebooks/Monte_Carlo_Simulation.ipynb"
   ]
  }
 ],
 "metadata": {
  "kernelspec": {
   "display_name": "Python 3",
   "language": "python",
   "name": "python3"
  },
  "language_info": {
   "codemirror_mode": {
    "name": "ipython",
    "version": 3
   },
   "file_extension": ".py",
   "mimetype": "text/x-python",
   "name": "python",
   "nbconvert_exporter": "python",
   "pygments_lexer": "ipython3",
   "version": "3.7.0"
  }
 },
 "nbformat": 4,
 "nbformat_minor": 2
}
